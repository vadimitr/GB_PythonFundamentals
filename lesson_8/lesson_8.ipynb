{
 "cells": [
  {
   "cell_type": "code",
   "execution_count": 30,
   "metadata": {
    "collapsed": true,
    "pycharm": {
     "name": "#%%\n"
    }
   },
   "outputs": [
    {
     "name": "stdout",
     "output_type": "stream",
     "text": [
      "Установлена дата: День: 12, Месяц: 2, Год: 2022\n",
      "Для введенной даты (11, 11, 2022) результат проверки равен: День-ок, Месяц-ок, Год-ок,\n",
      "Для введенной даты (32, 13, 2011) результат проверки равен: День-не ок, Месяц-не ок, Год-ок,\n",
      "День: 11, Месяц: 11, Год: 2011\n",
      "День: 11, Месяц: 11, Год: 2020\n",
      "Для введенной даты (1, 11, 2000) результат проверки равен: День-ок, Месяц-ок, Год-ок,\n"
     ]
    }
   ],
   "source": [
    "# 1. Реализовать класс «Дата», функция-конструктор которого должна принимать дату в виде строки формата «день-месяц-год».\n",
    "# В рамках класса реализовать два метода. Первый, с декоратором @classmethod. Он должен извлекать число, месяц, год и преобразовывать их тип к типу «Число».\n",
    "# Второй, с декоратором @staticmethod, должен проводить валидацию числа, месяца и года (например, месяц — от 1 до 12).\n",
    "# Проверить работу полученной структуры на реальных данных.\n",
    "\n",
    "class Data:\n",
    "    def __init__(self, day_month_year):\n",
    "        self.day_month_year = str(day_month_year)\n",
    "\n",
    "    @classmethod\n",
    "    def extract(cls, day_month_year):\n",
    "        init_date = []\n",
    "\n",
    "        for i in day_month_year.split():\n",
    "            if i != '-':\n",
    "                init_date.append(i)\n",
    "\n",
    "        return f'День: {int(init_date[0])}, Месяц: {int(init_date[1])}, Год: {int(init_date[2])}'\n",
    "\n",
    "    @staticmethod\n",
    "    def checkData(day, month, year):\n",
    "        checkResult = \"\"\n",
    "        if 1 <= day <= 31:\n",
    "           checkResult += \"День-ок,\"\n",
    "        else:\n",
    "           checkResult += \"День-не ок,\"\n",
    "        if 1 <= month <= 12:\n",
    "           checkResult += \" Месяц-ок,\"\n",
    "        else:\n",
    "           checkResult += \" Месяц-не ок,\"\n",
    "        if 2100 >= year >= 1970:\n",
    "           checkResult += \" Год-ок,\"\n",
    "        else:\n",
    "           checkResult += \" Год-не ок,\"\n",
    "        # print(f'Результат проверки равен: {checkResult}')\n",
    "        return f'Для введенной даты {day, month, year} результат проверки равен: {checkResult}'\n",
    "\n",
    "    def __str__(self):\n",
    "        return f'Установлена дата: {Data.extract(self.day_month_year)}'\n",
    "\n",
    "newData = Data('12 - 2 - 2022')\n",
    "print(newData)\n",
    "print(Data.checkData(11, 11, 2022))\n",
    "print(newData.checkData(32, 13, 2011))\n",
    "print(Data.extract('11 - 11 - 2011'))\n",
    "print(newData.extract('11 - 11 - 2020'))\n",
    "print(Data.checkData(1, 11, 2000))"
   ]
  },
  {
   "cell_type": "code",
   "execution_count": 33,
   "outputs": [
    {
     "name": "stdout",
     "output_type": "stream",
     "text": [
      "Караул, попытка деления на ноль!!!\n",
      "100.0\n",
      "Караул, попытка деления на ноль!!!\n"
     ]
    }
   ],
   "source": [
    "# 2. Создайте собственный класс-исключение, обрабатывающий ситуацию деления на ноль. Проверьте его работу на данных, вводимых пользователем.\n",
    "# При вводе нуля в качестве делителя программа должна корректно обработать эту ситуацию и не завершиться с ошибкой.#\n",
    "\n",
    "class DivisionByZero:\n",
    "    def __init__(self, divisible, divider):\n",
    "        self.divisible = divisible\n",
    "        self.divider = divider\n",
    "\n",
    "    @staticmethod\n",
    "    def divide_by_zero(divisible, divider):\n",
    "        try:\n",
    "            return (divisible / divider)\n",
    "        except:\n",
    "            return (f\"Караул, попытка деления на ноль!!!\")\n",
    "\n",
    "div = DivisionByZero(10, 100)\n",
    "print(DivisionByZero.divide_by_zero(10, 0))\n",
    "print(DivisionByZero.divide_by_zero(10, 0.1))\n",
    "print(div.divide_by_zero(100, 0))"
   ],
   "metadata": {
    "collapsed": false,
    "pycharm": {
     "name": "#%%\n"
    }
   }
  },
  {
   "cell_type": "code",
   "execution_count": 36,
   "outputs": [
    {
     "name": "stdout",
     "output_type": "stream",
     "text": [
      "Данные текущего списка: [12] \n",
      " \n",
      "Данные текущего списка: [12, 54] \n",
      " \n",
      "Данные текущего списка: [12, 54, 555] \n",
      " \n",
      "Данные текущего списка: [12, 54, 555, 22] \n",
      " \n",
      "Данные текущего списка: [12, 54, 555, 22, 47] \n",
      " \n",
      "Данные текущего списка: [12, 54, 555, 22, 47, 1457] \n",
      " \n",
      "Недопустимое значение - вместо числа вы ввели строку или булево\n",
      "Вы вышли из программы\n"
     ]
    }
   ],
   "source": [
    "# 3. Создайте собственный класс-исключение, который должен проверять содержимое списка на наличие только чисел. Проверить работу исключения на реальном примере. Запрашивать у пользователя данные и заполнять список необходимо только числами. Класс-исключение должен контролировать типы данных элементов списка.\n",
    "# Примечание: длина списка не фиксирована. Элементы запрашиваются бесконечно, пока пользователь сам не остановит работу скрипта, введя, например, команду «stop». При этом скрипт завершается, сформированный список с числами выводится на экран.\n",
    "# Подсказка: для этого задания примем, что пользователь может вводить только числа и строки. Во время ввода пользователем очередного элемента необходимо реализовать проверку типа элемента. Вносить его в список, только если введено число. Класс-исключение должен не позволить пользователю ввести текст (не число) и отобразить соответствующее сообщение. При этом работа скрипта не должна завершаться.\n",
    "\n",
    "class Error:\n",
    "    def __init__(self, *args):\n",
    "        self.init_list = []\n",
    "\n",
    "    def init_input(self):\n",
    "\n",
    "        while True:\n",
    "            try:\n",
    "                val = int(input('Вводите значения и затем нажимайте Enter - '))\n",
    "                self.init_list.append(val)\n",
    "                print(f'Данные текущего списка: {self.init_list} \\n ')\n",
    "            except:\n",
    "                print(f\"Недопустимое значение - вместо числа вы ввели строку или булево\")\n",
    "                yes_no = input(f'Попробовать еще раз? Y/N ')\n",
    "\n",
    "                if yes_no == 'Y' or yes_no == 'y':\n",
    "                    print(try_except.init_input())\n",
    "                elif yes_no == 'N' or yes_no == 'n':\n",
    "                    return f'Вы вышли из программы'\n",
    "                else:\n",
    "                    return f'Вы вышли из программы'\n",
    "\n",
    "try_except = Error(1)\n",
    "print(try_except.init_input())"
   ],
   "metadata": {
    "collapsed": false,
    "pycharm": {
     "name": "#%%\n"
    }
   }
  },
  {
   "cell_type": "code",
   "execution_count": 52,
   "outputs": [
    {
     "name": "stdout",
     "output_type": "stream",
     "text": [
      "{'Scaner': [Benq 121 1998, Acer 888 2015, HP 979 2012], 'Printer': [Brother 7047 126 2018]}\n",
      "\n",
      "{'Scaner': [Acer 888 2015, HP 979 2012], 'Printer': [Brother 7047 126 2018]}\n"
     ]
    }
   ],
   "source": [
    "# 4. Начните работу над проектом «Склад оргтехники». Создайте класс, описывающий склад.\n",
    "# А также класс «Оргтехника», который будет базовым для классов-наследников.\n",
    "# Эти классы — конкретные типы оргтехники (принтер, сканер, ксерокс). В базовом классе определите параметры, общие для приведённых типов.\n",
    "# В классах-наследниках реализуйте параметры, уникальные для каждого типа оргтехники.\n",
    "\n",
    "# 5. Продолжить работу над первым заданием. Разработайте методы, которые отвечают за приём оргтехники на склад и передачу в определённое подразделение компании.\n",
    "# Для хранения данных о наименовании и количестве единиц оргтехники, а также других данных, можно использовать любую подходящую структуру (например, словарь).\n",
    "\n",
    "# 6. Продолжить работу над вторым заданием. Реализуйте механизм валидации вводимых пользователем данных.\n",
    "# Например, для указания количества принтеров, отправленных на склад, нельзя использовать строковый тип данных.\n",
    "# Подсказка: постарайтесь реализовать в проекте «Склад оргтехники» максимум возможностей, изученных на уроках по ООП.\n",
    "\n",
    "class Sklad: #Класс Склад\n",
    "    def __init__(self):\n",
    "        self._dict = {}\n",
    "\n",
    "    def add_to(self, equipment): #Приемка оргтехники. Явную валидацию не делал, сил нет уже :(\n",
    "        # добавляем в словарь обьект по его названию, в значении\n",
    "        # будет список экземпляров этого оборудования\n",
    "        self._dict.setdefault(equipment.group_name(), []).append(equipment)\n",
    "\n",
    "    def extract(self, name): #Выдача оргтехники\n",
    "        # извлекаем из значения обьект по названию группы.\n",
    "        # дальше можно расширить поиск по серии, марке или еще чему-либо\n",
    "        if self._dict[name]:\n",
    "            self._dict.setdefault(name).pop(0)\n",
    "\n",
    "class Equipment: #Родительский класс оргтехники\n",
    "    def __init__(self, name, made, year):\n",
    "        self.name = name\n",
    "        self.made = made\n",
    "        self.year = year\n",
    "        self.group = self.__class__.__name__\n",
    "\n",
    "    def group_name(self):\n",
    "        return f'{self.group}'\n",
    "\n",
    "    def __repr__(self):\n",
    "        return f'{self.name} {self.made} {self.year}'\n",
    "\n",
    "class Printer(Equipment): #класс - наследник Оргтехника - Принтеры\n",
    "    def __init__(self, series, name, made, year):\n",
    "        super().__init__(name, made, year)\n",
    "        self.series = series\n",
    "\n",
    "    def __repr__(self):\n",
    "        return f'{self.name} {self.series} {self.made} {self.year}'\n",
    "\n",
    "    def action(self):\n",
    "        return 'Печатает'\n",
    "\n",
    "class Scaner(Equipment): #класс - наследник Оргтехника - Сканеры\n",
    "    def __init__(self, name, made, year):\n",
    "        super().__init__(name, made, year)\n",
    "\n",
    "    def action(self):\n",
    "        return 'Сканирует'\n",
    "\n",
    "class Xerox(Sklad): #класс - наследник Оргтехника - Копиры\n",
    "    def __init__(self, name, made, year):\n",
    "        super().__init__(name, made, year)\n",
    "\n",
    "    def action(self):\n",
    "        return 'Копирует'\n",
    "\n",
    "sklad = Sklad()\n",
    "# создаем объект и добавляем\n",
    "scaner = Scaner('Benq','121', 1998)\n",
    "sklad.add_to(scaner)\n",
    "scaner = Scaner('Acer','888', 2015)\n",
    "sklad.add_to(scaner)\n",
    "scaner = Scaner('HP','979', 2012)\n",
    "sklad.add_to(scaner)\n",
    "printer = Printer('7047', 'Brother', 126, 2018)\n",
    "sklad.add_to(printer)\n",
    "# выводим склад\n",
    "print(sklad._dict)\n",
    "# забираем с склада и выводим склад\n",
    "sklad.extract('Scaner')\n",
    "print()\n",
    "print(sklad._dict)"
   ],
   "metadata": {
    "collapsed": false,
    "pycharm": {
     "name": "#%%\n"
    }
   }
  },
  {
   "cell_type": "code",
   "execution_count": 42,
   "outputs": [
    {
     "name": "stdout",
     "output_type": "stream",
     "text": [
      "z = 1 + -2 * i\n",
      "Сумма z1 и z2 равна\n",
      "z = 4 + 2 * i\n",
      "Произведение z1 и z2 равно\n",
      "z = 11 + -6 * i\n"
     ]
    }
   ],
   "source": [
    "# 7. Реализовать проект «Операции с комплексными числами». Создайте класс «Комплексное число».\n",
    "# Реализуйте перегрузку методов сложения и умножения комплексных чисел. Проверьте работу проекта.\n",
    "# Для этого создаёте экземпляры класса (комплексные числа), выполните сложение и умножение созданных экземпляров.\n",
    "# Проверьте корректность полученного результата.\n",
    "\n",
    "class ComplexNumber:\n",
    "    def __init__(self, a, b, *args):\n",
    "        self.a = a\n",
    "        self.b = b\n",
    "        self.z = 'a + b * i'\n",
    "\n",
    "    def __add__(self, other):\n",
    "        print(f'Сумма z1 и z2 равна')\n",
    "        return f'z = {self.a + other.a} + {self.b + other.b} * i'\n",
    "\n",
    "    def __mul__(self, other):\n",
    "        print(f'Произведение z1 и z2 равно')\n",
    "        return f'z = {self.a * other.a - (self.b * other.b)} + {self.b * other.a} * i'\n",
    "\n",
    "    def __str__(self):\n",
    "        return f'z = {self.a} + {self.b} * i'\n",
    "\n",
    "\n",
    "z_1 = ComplexNumber(1, -2)\n",
    "z_2 = ComplexNumber(3, 4)\n",
    "print(z_1)\n",
    "print(z_1 + z_2)\n",
    "print(z_1 * z_2)"
   ],
   "metadata": {
    "collapsed": false,
    "pycharm": {
     "name": "#%%\n"
    }
   }
  }
 ],
 "metadata": {
  "kernelspec": {
   "display_name": "Python 3",
   "language": "python",
   "name": "python3"
  },
  "language_info": {
   "codemirror_mode": {
    "name": "ipython",
    "version": 2
   },
   "file_extension": ".py",
   "mimetype": "text/x-python",
   "name": "python",
   "nbconvert_exporter": "python",
   "pygments_lexer": "ipython2",
   "version": "2.7.6"
  }
 },
 "nbformat": 4,
 "nbformat_minor": 0
}