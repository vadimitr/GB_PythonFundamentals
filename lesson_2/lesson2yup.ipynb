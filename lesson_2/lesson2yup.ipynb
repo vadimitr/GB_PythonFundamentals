{
 "cells": [
  {
   "cell_type": "code",
   "execution_count": 28,
   "outputs": [
    {
     "name": "stdout",
     "output_type": "stream",
     "text": [
      "Задание 1, Вариант 1\n",
      "<class 'str'>\n",
      "<class 'int'>\n",
      "<class 'float'>\n",
      "<class 'NoneType'>\n",
      "<class 'bool'>\n"
     ]
    }
   ],
   "source": [
    "# 1. Создать список и заполнить его элементами различных типов данных.\n",
    "#    Реализовать скрипт проверки типа данных каждого элемента.\n",
    "#    Использовать функцию type() для проверки типа.\n",
    "#    Элементы списка можно не запрашивать у пользователя, а указать явно, в программе.\n",
    "\n",
    "print('Задание 1, Вариант 1')\n",
    "\n",
    "result_list1 = ['Строчечка', 12, 12.2, None, True]\n",
    "i=0\n",
    "while i<len(result_list1):\n",
    "    print(type(result_list1[i]))\n",
    "    i+=1"
   ],
   "metadata": {
    "collapsed": false,
    "pycharm": {
     "name": "#%%\n"
    }
   }
  },
  {
   "cell_type": "code",
   "execution_count": 29,
   "outputs": [
    {
     "name": "stdout",
     "output_type": "stream",
     "text": [
      "Задание 1, Вариант 2\n",
      "[<class 'str'>, <class 'int'>, <class 'float'>, <class 'NoneType'>, <class 'bool'>]\n"
     ]
    }
   ],
   "source": [
    "print('Задание 1, Вариант 2')\n",
    "\n",
    "print([type(i) for i in result_list1])"
   ],
   "metadata": {
    "collapsed": false,
    "pycharm": {
     "name": "#%%\n"
    }
   }
  },
  {
   "cell_type": "code",
   "execution_count": 30,
   "outputs": [
    {
     "name": "stdout",
     "output_type": "stream",
     "text": [
      "Задание 2\n",
      "['1', '5', '5', '9', '6']\n",
      "['5', '1', '9', '5', '6']\n"
     ]
    }
   ],
   "source": [
    "# 2. Для списка реализовать обмен значений соседних элементов.\n",
    "#    Значениями обмениваются элементы с индексами 0 и 1, 2 и 3 и т. д.\n",
    "#    При нечётном количестве элементов последний сохранить на своём месте.\n",
    "#    Для заполнения списка элементов нужно использовать функцию input().\n",
    "\n",
    "print('Задание 2')\n",
    "\n",
    "my_list = [1,2,3,4,5]\n",
    "my_list = input(\"Введите несколько чисел через пробел: \").split()\n",
    "print(my_list)\n",
    "for i in range(0, len(my_list)-1, 2):\n",
    "    my_list[i], my_list[i+1] = my_list[i+1], my_list[i]\n",
    "print(my_list)"
   ],
   "metadata": {
    "collapsed": false,
    "pycharm": {
     "name": "#%%\n"
    }
   }
  },
  {
   "cell_type": "code",
   "execution_count": 31,
   "outputs": [
    {
     "name": "stdout",
     "output_type": "stream",
     "text": [
      "Задание 3, Вариант 1 (список)\n",
      "Такого месяца не существует\n"
     ]
    }
   ],
   "source": [
    "# 3. Пользователь вводит месяц в виде целого числа от 1 до 12.\n",
    "#    Сообщить, к какому времени года относится месяц (зима, весна, лето, осень).\n",
    "#    Напишите решения через list и dict.\n",
    "\n",
    "print('Задание 3, Вариант 1 (список)')\n",
    "\n",
    "lseasons = ['Зима', 'Весна', 'Лето', 'Осень']\n",
    "month = int(input(\"Введите номер месяца (от 1 до 12) \"))\n",
    "if month ==12 or month == 1 or month == 2:\n",
    "    print(lseasons[0])\n",
    "elif month == 3 or month == 4 or month ==5:\n",
    "    print(lseasons[1])\n",
    "elif month == 6 or month == 7 or month == 8:\n",
    "    print(lseasons[2])\n",
    "elif month == 9 or month == 10 or month == 11:\n",
    "    print(lseasons[3])\n",
    "else:\n",
    "    print(\"Такого месяца не существует\")"
   ],
   "metadata": {
    "collapsed": false,
    "pycharm": {
     "name": "#%%\n"
    }
   }
  },
  {
   "cell_type": "code",
   "execution_count": 32,
   "outputs": [
    {
     "name": "stdout",
     "output_type": "stream",
     "text": [
      "Задание 3, Вариант 2 (словарь)\n",
      "Зима\n"
     ]
    }
   ],
   "source": [
    "print('Задание 3, Вариант 2 (словарь)')\n",
    "\n",
    "dseasons = {1 : 'Зима', 2 : 'Весна', 3 : 'Лето', 4 : 'Осень'}\n",
    "month = int(input(\"Введите номер месяца (от 1 до 12) \"))\n",
    "if month ==12 or month == 1 or month == 2:\n",
    "        print(dseasons.get(1))\n",
    "elif month == 3 or month == 4 or month ==5:\n",
    "    print(dseasons.get(2))\n",
    "elif month == 6 or month == 7 or month == 8:\n",
    "    print(dseasons.get(3))\n",
    "elif month == 9 or month == 10 or month == 11:\n",
    "    print(dseasons.get(4))\n",
    "else:\n",
    "    print(\"Такого месяца не существует\")"
   ],
   "metadata": {
    "collapsed": false,
    "pycharm": {
     "name": "#%%\n"
    }
   }
  },
  {
   "cell_type": "code",
   "execution_count": 33,
   "outputs": [
    {
     "name": "stdout",
     "output_type": "stream",
     "text": [
      "Задание 4\n",
      "1 1\n",
      "2 11\n",
      "3 ссс\n",
      "4 xcxc\n",
      "5 1\n"
     ]
    }
   ],
   "source": [
    "# 4. Пользователь вводит строку из нескольких слов, разделённых пробелами.\n",
    "#    Вывести каждое слово с новой строки. Строки нужно пронумеровать.\n",
    "#    Если слово длинное, выводить только первые 10 букв в слове.\n",
    "\n",
    "print('Задание 4')\n",
    "list4 = input('Введите строку из нескольких слов через пробел: ').split()\n",
    "for i, elst in enumerate(list4, 1):\n",
    "    print(i, elst[0:10])"
   ],
   "metadata": {
    "collapsed": false,
    "pycharm": {
     "name": "#%%\n"
    }
   }
  },
  {
   "cell_type": "code",
   "execution_count": 34,
   "outputs": [
    {
     "name": "stdout",
     "output_type": "stream",
     "text": [
      "Задание 5\n",
      "Текущий рейтинг: [7, 5, 3, 3, 2]\n",
      "Новый рейтинг: [7, 5, 3, 3, 2, 2]\n",
      "Новый рейтинг: [7, 5, 5, 3, 3, 2, 2]\n",
      "Новый рейтинг: [7, 7, 5, 5, 3, 3, 2, 2]\n"
     ]
    }
   ],
   "source": [
    "# 5. Реализовать структуру «Рейтинг», представляющую собой набор натуральных чисел, который не возрастает.\n",
    "#    У пользователя нужно запрашивать новый элемент рейтинга.\n",
    "#    Если в рейтинге существуют элементы с одинаковыми значениями, то новый элемент с тем же значением должен разместиться после них.\n",
    "#       Подсказка. Например, набор натуральных чисел: 7, 5, 3, 3, 2.\n",
    "#       Пользователь ввёл число 3. Результат: 7, 5, 3, 3, 3, 2.\n",
    "#       Пользователь ввёл число 8. Результат: 8, 7, 5, 3, 3, 2.\n",
    "#       Пользователь ввёл число 1. Результат: 7, 5, 3, 3, 2, 1.\n",
    "#       Набор натуральных чисел можно задать сразу в коде, например, my_list = [7, 5, 3, 3, 2].\n",
    "\n",
    "print('Задание 5')\n",
    "\n",
    "rating_list = [7, 5, 3, 3, 2]\n",
    "print(f\"Текущий рейтинг: {rating_list}\")\n",
    "\n",
    "new_rates_count = int(input(\"Сколько вы хотите ввести новых элементов рейтинга: \"))\n",
    "\n",
    "for i in range(1, new_rates_count + 1):\n",
    "    new_rate = int(input(\"Введите новый элемент рейтинга: \"))\n",
    "    if new_rate > 0:\n",
    "        rating_list.append(new_rate)\n",
    "        rating_list.sort(reverse = True)\n",
    "        print(f\"Новый рейтинг: {rating_list}\")\n",
    "    else:\n",
    "        print(\"Ошибка. Вы ввели не натуральное число\")"
   ],
   "metadata": {
    "collapsed": false,
    "pycharm": {
     "name": "#%%\n"
    }
   }
  },
  {
   "cell_type": "code",
   "execution_count": 35,
   "outputs": [
    {
     "name": "stdout",
     "output_type": "stream",
     "text": [
      "Задание 6\n",
      "Заполните информацию по 1-му товару\n",
      "Заполните информацию по 2-му товару\n",
      "Исходный список товаров: \n",
      "[(1, {'Наименование': 'hhh', 'Цена': 44, 'Количество': 5555, 'Ед.': 'in'}), (2, {'Наименование': 'пвапвап', 'Цена': 76, 'Количество': 3, 'Ед.': 'шт'})]\n",
      "Отчет по списку товаров: \n",
      "{'Наименование': ['пвапвап', 'hhh'], 'Цена': [44, 76], 'Количество': [3, 5555], 'Ед.': ['шт', 'in']}\n"
     ]
    }
   ],
   "source": [
    "# 6. * Реализовать структуру данных «Товары». Она должна представлять собой список кортежей.\n",
    "#      Каждый кортеж хранит информацию об отдельном товаре.\n",
    "#      В кортеже должно быть два элемента — номер товара и словарь с параметрами, то есть характеристиками товара: название, цена, количество, единица измерения.\n",
    "#      Структуру нужно сформировать программно, запросив все данные у пользователя.\n",
    "#           Пример готовой структуры:\n",
    "#\n",
    "#               [\n",
    "#               (1, {“название”: “компьютер”, “цена”: 20000, “количество”: 5, “eд”: “шт.”}),\n",
    "#               (2, {“название”: “принтер”, “цена”: 6000, “количество”: 2, “eд”: “шт.”}),\n",
    "#               (3, {“название”: “сканер”, “цена”: 2000, “количество”: 7, “eд”: “шт.”})\n",
    "#               ]\n",
    "#\n",
    "#           Нужно собрать аналитику о товарах. Реализовать словарь, в котором каждый ключ — характеристика товара, например, название. Тогда значение — список значений-характеристик, например, список названий товаров.\n",
    "#               Пример:\n",
    "#               {\n",
    "#               “название”: [“компьютер”, “принтер”, “сканер”],\n",
    "#               “цена”: [20000, 6000, 2000],\n",
    "#               “количество”: [5, 2, 7],\n",
    "#               “ед”: [“шт.”]\n",
    "#               }\n",
    "print('Задание 6')\n",
    "products = [] # Объявляем список, ктр будет содержать кортежи с данными о товарах\n",
    "products_count = int(input(\"Сколько вы хотите ввести новых позиций номенклатуры (товаров)? \"))\n",
    "for i in range(1, products_count+1): # Заполняем список данными через ввод пользователем\n",
    "    print(f\"Заполните информацию по {i}-му товару\")\n",
    "    product_name = input(\"Наименование: \")\n",
    "    product_price = int(input(\"Цена: \"))\n",
    "    product_count = int(input(\"Количество: \"))\n",
    "    product_measure =  input(\"Ед. измерения: \")\n",
    "    products.append((i, {'Наименование': product_name, 'Цена': product_price, 'Количество': product_count, 'Ед.': product_measure}))\n",
    "\n",
    "print(f\"Исходный список товаров: \\n{products}\") # \\n - (newline) перевод каретки на следующую строку\n",
    "\n",
    "# Формируем структуру данных\n",
    "product_names = [] # Объявляем списки для хранения характеристик товаров\n",
    "product_prices = []\n",
    "product_counts = []\n",
    "product_measures = []\n",
    "for i in products: # Заполняем характеристики товаров в списках на основе введенных ранее данных\n",
    "    product_names.append(i[1].get('Наименование'))\n",
    "    product_prices.append(i[1].get('Цена'))\n",
    "    product_counts.append(i[1].get('Количество'))\n",
    "    product_measures.append(i[1].get('Ед.'))\n",
    "\n",
    "# Формируем отчет\n",
    "report = { # словарь Характеристика - Список значений\n",
    "    'Наименование': list(set(product_names)), # Список создается через set, чтобы в отчете не было повторяющихся значений\n",
    "    'Цена': list(set(product_prices)),\n",
    "    'Количество': list(set(product_counts)),\n",
    "    'Ед.': list(set(product_measures))\n",
    "}\n",
    "\n",
    "print(f\"Отчет по списку товаров: \\n{report}\")"
   ],
   "metadata": {
    "collapsed": false,
    "pycharm": {
     "name": "#%%\n"
    }
   }
  }
 ],
 "metadata": {
  "kernelspec": {
   "display_name": "Python 3",
   "language": "python",
   "name": "python3"
  },
  "language_info": {
   "codemirror_mode": {
    "name": "ipython",
    "version": 2
   },
   "file_extension": ".py",
   "mimetype": "text/x-python",
   "name": "python",
   "nbconvert_exporter": "python",
   "pygments_lexer": "ipython2",
   "version": "2.7.6"
  }
 },
 "nbformat": 4,
 "nbformat_minor": 0
}